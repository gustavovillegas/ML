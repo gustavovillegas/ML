{
 "cells": [
  {
   "cell_type": "code",
   "execution_count": 10,
   "metadata": {},
   "outputs": [
    {
     "name": "stdout",
     "output_type": "stream",
     "text": [
      "Ingrese su nombre: gus\n",
      "Ingrese su edad: 30\n",
      "Hola gus! vas a tener 100 años en: 2087\n"
     ]
    }
   ],
   "source": [
    "#Ejercicio 1\n",
    "name = input(\"Ingrese su nombre: \")\n",
    "age = int(input(\"Ingrese su edad: \"))\n",
    "\n",
    "year = int(2017+(100-age))\n",
    "print(\"Hola \"  +name+  \"! vas a tener 100 años en: \" + str(year))"
   ]
  },
  {
   "cell_type": "code",
   "execution_count": 17,
   "metadata": {},
   "outputs": [
    {
     "name": "stdout",
     "output_type": "stream",
     "text": [
      "Beba Ingrese un número: 12\n",
      "El número es par!\n"
     ]
    }
   ],
   "source": [
    "#Ejercicio 2\n",
    "number = int(input(\"Beba Ingrese un número: \"))\n",
    "result = number%2\n",
    "if result == 0:\n",
    "    print (\"El número es par!\")\n",
    "else:\n",
    "    print (\"El número es inpar!\")"
   ]
  },
  {
   "cell_type": "code",
   "execution_count": 23,
   "metadata": {},
   "outputs": [
    {
     "name": "stdout",
     "output_type": "stream",
     "text": [
      "[1, 2, 1, 3]\n"
     ]
    }
   ],
   "source": [
    "#Ejercicio 3\n",
    "list =[1,2,54,6,14,22,1,3,100]\n",
    "for number in list:\n",
    "    if number < 5:\n",
    "        print(str(number)+\"\\n\")"
   ]
  },
  {
   "cell_type": "code",
   "execution_count": 30,
   "metadata": {},
   "outputs": [
    {
     "name": "stdout",
     "output_type": "stream",
     "text": [
      "Ingrese un número: 45\n",
      "[1, 3, 5, 9, 15, 45]\n"
     ]
    }
   ],
   "source": [
    "#Ejercicio 4\n",
    "user_number = int(input(\"Ingrese un número: \"))\n",
    "list=range(1,user_number+1)\n",
    "final_list=[]\n",
    "\n",
    "for number in list:\n",
    "    if user_number%number == 0:\n",
    "        final_list.append(number)\n",
    "\n",
    "print(final_list)"
   ]
  },
  {
   "cell_type": "code",
   "execution_count": 33,
   "metadata": {},
   "outputs": [
    {
     "name": "stdout",
     "output_type": "stream",
     "text": [
      "[3, 5, 12, 4]\n"
     ]
    }
   ],
   "source": [
    "#Ejercicio 5\n",
    "list1 = [3,5,77,8,12,3,43,4]\n",
    "list2 = [12,3,56,5,5,89,200,4,23,2,1]\n",
    "final_list = []\n",
    "for number1 in list1:\n",
    "    if number1 in list2:\n",
    "        if number1 not in final_list:\n",
    "            final_list.append(number1)\n",
    "print (final_list)"
   ]
  },
  {
   "cell_type": "code",
   "execution_count": 2,
   "metadata": {},
   "outputs": [
    {
     "name": "stdout",
     "output_type": "stream",
     "text": [
      "Ingrese una palabra: 131\n",
      "La Palabra  es capicúa!\n"
     ]
    }
   ],
   "source": [
    "#Ejercicio 6\n",
    "input_word=input(\"Ingrese una palabra: \")\n",
    "word = []\n",
    "word=list(input_word)\n",
    "count=len(word)\n",
    "\n",
    "if  count%2 == 0:\n",
    "    middle = int(count/2)\n",
    "    left_list = word[0:middle]\n",
    "    right_list = word[middle:]\n",
    "    right_list.reverse()\n",
    "    if left_list == right_list : print(\"La palabra ES capicúa!\")\n",
    "    else: print(\"La palabra NO es capicúa!\") \n",
    "\n",
    "else:\n",
    "    middle_letter_left = int(count/2-0.5)\n",
    "    middle_letter_right = int(count/2+0.5)\n",
    "    left_list = word[0:middle_letter_left]\n",
    "    right_list = word[middle_letter_right:]\n",
    "    right_list.reverse()\n",
    "    if left_list == right_list: print(\"La Palabra  es capicúa!\")\n",
    "    else: print(\"La palabra NO es capicúa!\")"
   ]
  },
  {
   "cell_type": "code",
   "execution_count": 4,
   "metadata": {},
   "outputs": [
    {
     "name": "stdout",
     "output_type": "stream",
     "text": [
      "[32, 2, 100, 22]\n"
     ]
    }
   ],
   "source": [
    "#Ejercicio 7\n",
    "\n",
    "list_numbers=[1,32,45,2,100,51,22]\n",
    "list_even=[number for number in list_numbers if number % 2 == 0]\n",
    "print(list_even)"
   ]
  },
  {
   "cell_type": "code",
   "execution_count": 3,
   "metadata": {},
   "outputs": [
    {
     "name": "stdout",
     "output_type": "stream",
     "text": [
      "[1, 15, 2, 3]\n"
     ]
    }
   ],
   "source": [
    "#Ejercicio 10\n",
    "\n",
    "list1 = [1, 89,15,2,3,4,5]\n",
    "list2 = [1, 2,3,15,16,27]\n",
    "\n",
    "new_list= [n1 for n1 in list1 if n1 in list2]\n",
    "\n",
    "print(new_list)"
   ]
  },
  {
   "cell_type": "code",
   "execution_count": null,
   "metadata": {},
   "outputs": [],
   "source": []
  }
 ],
 "metadata": {
  "kernelspec": {
   "display_name": "Python 3",
   "language": "python",
   "name": "python3"
  },
  "language_info": {
   "codemirror_mode": {
    "name": "ipython",
    "version": 3
   },
   "file_extension": ".py",
   "mimetype": "text/x-python",
   "name": "python",
   "nbconvert_exporter": "python",
   "pygments_lexer": "ipython3",
   "version": "3.6.4"
  }
 },
 "nbformat": 4,
 "nbformat_minor": 2
}
